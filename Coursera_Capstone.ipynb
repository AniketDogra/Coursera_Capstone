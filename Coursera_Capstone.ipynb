{
  "nbformat": 4,
  "nbformat_minor": 0,
  "metadata": {
    "colab": {
      "name": "Coursera_Capstone.ipynb",
      "provenance": []
    },
    "kernelspec": {
      "name": "python3",
      "display_name": "Python 3"
    }
  },
  "cells": [
    {
      "cell_type": "markdown",
      "metadata": {
        "id": "2x7P7jf1CQQj",
        "colab_type": "text"
      },
      "source": [
        "# Capstone Project Notebook\n",
        "\n",
        "### This notebook will contain my capstone project for the Coursera Course -   Applied Data Science Capstone"
      ]
    },
    {
      "cell_type": "code",
      "metadata": {
        "id": "6pYO35UkCqUf",
        "colab_type": "code",
        "colab": {
          "base_uri": "https://localhost:8080/",
          "height": 36
        },
        "outputId": "5209f457-de9a-4c09-e89c-f15cf83b1234"
      },
      "source": [
        "import pandas as pd\n",
        "import numpy as np\n",
        "print(\" Hello Capstone Project Course! \")"
      ],
      "execution_count": 1,
      "outputs": [
        {
          "output_type": "stream",
          "text": [
            " Hello Capstone Project Course! \n"
          ],
          "name": "stdout"
        }
      ]
    },
    {
      "cell_type": "code",
      "metadata": {
        "id": "A_MEH3U7C3CO",
        "colab_type": "code",
        "colab": {}
      },
      "source": [
        ""
      ],
      "execution_count": 0,
      "outputs": []
    }
  ]
}